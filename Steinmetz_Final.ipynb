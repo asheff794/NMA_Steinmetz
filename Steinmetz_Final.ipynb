{
  "nbformat": 4,
  "nbformat_minor": 0,
  "metadata": {
    "colab": {
      "name": "Steinmetz_Final.ipynb",
      "provenance": [],
      "collapsed_sections": []
    },
    "kernelspec": {
      "name": "python3",
      "display_name": "Python 3"
    }
  },
  "cells": [
    {
      "cell_type": "code",
      "metadata": {
        "id": "uZpmbXcaJiPC",
        "colab_type": "code",
        "cellView": "form",
        "colab": {}
      },
      "source": [
        "#@title Data retrieval\n",
        "import os, requests\n",
        "\n",
        "fname = []\n",
        "for j in range(3):\n",
        "  fname.append('steinmetz_part%d.npz'%j)\n",
        "url = [\"https://osf.io/agvxh/download\"]\n",
        "url.append(\"https://osf.io/uv3mw/download\")\n",
        "url.append(\"https://osf.io/ehmw2/download\")\n",
        "\n",
        "for j in range(len(url)):\n",
        "  if not os.path.isfile(fname[j]):\n",
        "    try:\n",
        "      r = requests.get(url[j])\n",
        "    except requests.ConnectionError:\n",
        "      print(\"!!! Failed to download data !!!\")\n",
        "    else:\n",
        "      if r.status_code != requests.codes.ok:\n",
        "        print(\"!!! Failed to download data !!!\")\n",
        "      else:\n",
        "        with open(fname[j], \"wb\") as fid:\n",
        "          fid.write(r.content)\n"
      ],
      "execution_count": null,
      "outputs": []
    },
    {
      "cell_type": "code",
      "metadata": {
        "id": "0QTdETC8Jszl",
        "colab_type": "code",
        "cellView": "form",
        "colab": {
          "base_uri": "https://localhost:8080/",
          "height": 55
        },
        "outputId": "1ed6cd51-39ac-41ee-fd62-27c9f2e3f17c"
      },
      "source": [
        "#@title Data loading\n",
        "import numpy as np\n",
        "\n",
        "alldat = np.array([])\n",
        "for j in range(len(fname)):\n",
        "  alldat = np.hstack((alldat, np.load('steinmetz_part%d.npz'%j, allow_pickle=True)['dat']))\n",
        "\n",
        "orig_dat = alldat #Save a copy of original\n",
        "\n",
        "print(alldat[11].keys())"
      ],
      "execution_count": null,
      "outputs": [
        {
          "output_type": "stream",
          "text": [
            "dict_keys(['spks', 'wheel', 'pupil', 'response', 'response_time', 'bin_size', 'stim_onset', 'contrast_right', 'contrast_left', 'brain_area', 'feedback_time', 'feedback_type', 'gocue', 'mouse_name', 'date_exp', 'trough_to_peak', 'active_trials', 'contrast_left_passive', 'contrast_right_passive', 'spks_passive', 'pupil_passive', 'wheel_passive', 'prev_reward', 'ccf', 'ccf_axes', 'cellid_orig', 'reaction_time', 'face', 'face_passive', 'licks', 'licks_passive'])\n"
          ],
          "name": "stdout"
        }
      ]
    },
    {
      "cell_type": "code",
      "metadata": {
        "id": "L1Q9FYm3Juk4",
        "colab_type": "code",
        "cellView": "form",
        "colab": {}
      },
      "source": [
        "#@title Add New Keys\n",
        "import scipy.io as sio\n",
        "import requests\n",
        "import io\n",
        "\n",
        "rtstruct_url = 'https://github.com/ayeshav/nma_project/blob/master/RTStruct.mat?raw=true'\n",
        "r = requests.get(rtstruct_url)\n",
        "\n",
        "temp = sio.loadmat(io.BytesIO(r.content))\n",
        "RTStruct = temp['RTStruct']\n",
        "rt = RTStruct[0]['allRt']\n",
        "rt_trial_indices = RTStruct[0]['trialInd']\n",
        "\n",
        "alldat=orig_dat #Set alldat to original\n",
        "nSessions = len(alldat)\n",
        "\n",
        "for iSession in range(nSessions):\n",
        "  dat = alldat[iSession]\n",
        "  relative_contrast = dat['contrast_left'] - dat['contrast_right']\n",
        "  reaction_time = rt[iSession]\n",
        "  rt_trial_ind = rt_trial_indices[iSession] -1 # Subtract 1 because MATLAB is 1-indexed, Python is 0-indexed\n",
        "\n",
        "  nTrials = len(dat['gocue'])\n",
        "\n",
        "  alldat[iSession]['reaction_time'] = np.empty((nTrials))\n",
        "  alldat[iSession]['reaction_time'][:] = np.nan\n",
        "  alldat[iSession]['reaction_time'][rt_trial_ind] = reaction_time\n",
        "\n",
        "  alldat[iSession]['relative_contrast'] = relative_contrast\n",
        "  alldat[iSession]['difficulty'] = abs(relative_contrast)\n",
        "\n",
        "  alldat[iSession]['GO_trial'] = (relative_contrast!=0)\n",
        "  \n",
        "  alldat[iSession]['GO_correct'] = np.logical_or(np.logical_and(relative_contrast<0,dat['response']<0),np.logical_and(relative_contrast>0,dat['response']>0))\n",
        "  alldat[iSession]['GO_incorrect'] = np.logical_or(np.logical_and(relative_contrast<0,dat['response']>0),np.logical_and(relative_contrast>0,dat['response']<0))\n",
        "\n",
        "  alldat[iSession]['GO_correct_right'] = np.logical_and(alldat[iSession]['GO_correct'],relative_contrast<0)\n",
        "  alldat[iSession]['GO_correct_left'] = np.logical_and(alldat[iSession]['GO_correct'],relative_contrast>0)\n",
        "\n",
        "  alldat[iSession]['GO_incorrect_right'] = np.logical_and(alldat[iSession]['GO_incorrect'],relative_contrast<0)\n",
        "  alldat[iSession]['GO_incorrect_left'] = np.logical_and(alldat[iSession]['GO_incorrect'],relative_contrast>0)\n",
        "\n"
      ],
      "execution_count": null,
      "outputs": []
    },
    {
      "cell_type": "code",
      "metadata": {
        "id": "n4p-3VbERUUT",
        "colab_type": "code",
        "colab": {}
      },
      "source": [
        ""
      ],
      "execution_count": null,
      "outputs": []
    }
  ]
}