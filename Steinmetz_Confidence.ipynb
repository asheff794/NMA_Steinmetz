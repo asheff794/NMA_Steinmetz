{
 "cells": [
  {
   "cell_type": "markdown",
   "metadata": {},
   "source": [
    "## Data Information \n",
    "\n",
    "alldat contains 39 sessions from 10 mice, data from Steinmetz et al, 2019. Time bins for all measurements are 10ms, starting 500ms before stimulus onset. The mouse had to determine which side has the highest contrast. For each dat = alldat[k], you have the fields below. For extra variables, check out the extra notebook and extra data files (lfp, waveforms and exact spike times, non-binned).\n",
    "\n",
    "* dat['mouse_name']: mouse name\n",
    "* dat['date_exp']: when a session was performed\n",
    "* dat['spks']: neurons by trials by time bins.\n",
    "* dat['brain_area']: brain area for each neuron recorded.\n",
    "* dat['ccf']: Allen Institute brain atlas coordinates for each neuron.\n",
    "* dat['ccf_axes']: axes names for the Allen CCF.\n",
    "* dat['contrast_right']: contrast level for the right stimulus, which is always contralateral to the recorded brain areas.\n",
    "* dat['contrast_left']: contrast level for left stimulus.\n",
    "* dat['gocue']: when the go cue sound was played.\n",
    "* dat['response_times']: when the response was registered, which has to be after the go cue. The mouse can turn the wheel before the go cue (and nearly always does!), but the stimulus on the screen won't move before the go cue.\n",
    "* dat['response']: which side the response was (-1, 0, 1). When the right-side stimulus had higher contrast, the correct choice was -1. 0 is a no go response.\n",
    "* dat['feedback_time']: when feedback was provided.\n",
    "* dat['feedback_type']: if the feedback was positive (+1, reward) or negative (-1, white noise burst).\n",
    "* dat['wheel']: turning speed of the wheel that the mice uses to make a response, sampled at 10ms.\n",
    "* dat['pupil']: pupil area (noisy, because pupil is very small) + pupil horizontal and vertical position.\n",
    "* dat['face']: average face motion energy from a video camera.\n",
    "* dat['licks']: lick detections, 0 or 1.\n",
    "* dat['trough_to_peak']: measures the width of the action potential waveform for each neuron. Widths <=10 samples are \"putative fast spiking neurons\".\n",
    "* dat['%X%_passive']: same as above for X = {spks, pupil, wheel, contrast_left, contrast_right} but for passive trials at the end of the recording when the mouse was no longer engaged and stopped making responses.\n",
    "* dat['prev_reward']: time of the feedback (reward/white noise) on the previous trial in relation to the current stimulus time.\n",
    "* dat['reaction_time']: ntrials by 2. First column: reaction time computed from the wheel movement as the first sample above 5 ticks/10ms bin. Second column: direction of the wheel movement (0 = no move detected)."
   ]
  },
  {
   "cell_type": "markdown",
   "metadata": {},
   "source": [
    "## Data Retrieval"
   ]
  },
  {
   "cell_type": "code",
   "execution_count": 1,
   "metadata": {
    "cellView": "form",
    "colab": {},
    "colab_type": "code",
    "id": "uZpmbXcaJiPC"
   },
   "outputs": [],
   "source": [
    "import os, requests\n",
    "\n",
    "fname = []\n",
    "for j in range(3):\n",
    "  fname.append('steinmetz_part%d.npz'%j)\n",
    "url = [\"https://osf.io/agvxh/download\"]\n",
    "url.append(\"https://osf.io/uv3mw/download\")\n",
    "url.append(\"https://osf.io/ehmw2/download\")\n",
    "\n",
    "for j in range(len(url)):\n",
    "  if not os.path.isfile(fname[j]):\n",
    "    try:\n",
    "      r = requests.get(url[j])\n",
    "    except requests.ConnectionError:\n",
    "      print(\"!!! Failed to download data !!!\")\n",
    "    else:\n",
    "      if r.status_code != requests.codes.ok:\n",
    "        print(\"!!! Failed to download data !!!\")\n",
    "      else:\n",
    "        with open(fname[j], \"wb\") as fid:\n",
    "          fid.write(r.content)\n"
   ]
  },
  {
   "cell_type": "markdown",
   "metadata": {},
   "source": [
    "## Data Loading"
   ]
  },
  {
   "cell_type": "code",
   "execution_count": 2,
   "metadata": {
    "cellView": "form",
    "colab": {
     "base_uri": "https://localhost:8080/",
     "height": 55
    },
    "colab_type": "code",
    "id": "0QTdETC8Jszl",
    "outputId": "1ed6cd51-39ac-41ee-fd62-27c9f2e3f17c"
   },
   "outputs": [
    {
     "name": "stdout",
     "output_type": "stream",
     "text": [
      "dict_keys(['spks', 'wheel', 'pupil', 'response', 'response_time', 'bin_size', 'stim_onset', 'contrast_right', 'contrast_left', 'brain_area', 'feedback_time', 'feedback_type', 'gocue', 'mouse_name', 'date_exp', 'trough_to_peak', 'active_trials', 'contrast_left_passive', 'contrast_right_passive', 'spks_passive', 'pupil_passive', 'wheel_passive', 'prev_reward', 'ccf', 'ccf_axes', 'cellid_orig', 'reaction_time', 'face', 'face_passive', 'licks', 'licks_passive'])\n"
     ]
    }
   ],
   "source": [
    "import numpy as np\n",
    "\n",
    "alldat = np.array([])\n",
    "for j in range(len(fname)):\n",
    "  alldat = np.hstack((alldat, np.load('steinmetz_part%d.npz'%j, allow_pickle=True)['dat']))\n",
    "\n",
    "orig_dat = alldat #Save a copy of original\n",
    "\n",
    "print(alldat[11].keys())"
   ]
  },
  {
   "cell_type": "markdown",
   "metadata": {},
   "source": [
    "## Load Reaction Time, Calculate New Behavioral Variables"
   ]
  },
  {
   "cell_type": "code",
   "execution_count": 12,
   "metadata": {
    "cellView": "form",
    "colab": {},
    "colab_type": "code",
    "id": "L1Q9FYm3Juk4"
   },
   "outputs": [],
   "source": [
    "import scipy.io as sio\n",
    "import requests\n",
    "import io\n",
    "\n",
    "rtstruct_url = 'https://github.com/ayeshav/nma_project/blob/master/RTStruct.mat?raw=true'\n",
    "r = requests.get(rtstruct_url)\n",
    "\n",
    "temp = sio.loadmat(io.BytesIO(r.content))\n",
    "RTStruct = temp['RTStruct']\n",
    "rt = RTStruct[0]['allRt']\n",
    "rt_trial_indices = RTStruct[0]['trialInd']\n",
    "\n",
    "alldat=orig_dat #Set alldat to original\n",
    "nSessions = len(alldat)\n",
    "\n",
    "for iSession in range(nSessions):\n",
    "  dat = alldat[iSession]\n",
    "  relative_contrast = dat['contrast_left'] - dat['contrast_right']\n",
    "  reaction_time = rt[iSession]\n",
    "  rt_trial_ind = rt_trial_indices[iSession] -1 # Subtract 1 because MATLAB is 1-indexed, Python is 0-indexed\n",
    "\n",
    "  nTrials = len(dat['gocue'])\n",
    "\n",
    "  alldat[iSession]['reaction_time'] = np.empty((nTrials))\n",
    "  alldat[iSession]['reaction_time'][:] = np.nan\n",
    "  alldat[iSession]['reaction_time'][rt_trial_ind] = reaction_time\n",
    "\n",
    "  alldat[iSession]['relative_contrast'] = relative_contrast\n",
    "  alldat[iSession]['difficulty'] = abs(relative_contrast)\n",
    "\n",
    "  alldat[iSession]['GO_trial'] = (relative_contrast!=0)\n",
    "  \n",
    "  alldat[iSession]['GO_correct'] = np.logical_or(np.logical_and(relative_contrast<0,dat['response']<0),np.logical_and(relative_contrast>0,dat['response']>0))\n",
    "  alldat[iSession]['GO_incorrect'] = np.logical_or(np.logical_and(relative_contrast<0,dat['response']>0),np.logical_and(relative_contrast>0,dat['response']<0))\n",
    "\n",
    "  alldat[iSession]['GO_correct_right'] = np.logical_and(alldat[iSession]['GO_correct'],relative_contrast<0)\n",
    "  alldat[iSession]['GO_correct_left'] = np.logical_and(alldat[iSession]['GO_correct'],relative_contrast>0)\n",
    "\n",
    "  alldat[iSession]['GO_incorrect_right'] = np.logical_and(alldat[iSession]['GO_incorrect'],relative_contrast<0)\n",
    "  alldat[iSession]['GO_incorrect_left'] = np.logical_and(alldat[iSession]['GO_incorrect'],relative_contrast>0)\n",
    "\n"
   ]
  },
  {
   "cell_type": "code",
   "execution_count": null,
   "metadata": {},
   "outputs": [],
   "source": []
  }
 ],
 "metadata": {
  "colab": {
   "collapsed_sections": [],
   "name": "Steinmetz_Final.ipynb",
   "provenance": []
  },
  "kernelspec": {
   "display_name": "Python 3",
   "language": "python",
   "name": "python3"
  },
  "language_info": {
   "codemirror_mode": {
    "name": "ipython",
    "version": 3
   },
   "file_extension": ".py",
   "mimetype": "text/x-python",
   "name": "python",
   "nbconvert_exporter": "python",
   "pygments_lexer": "ipython3",
   "version": "3.7.6"
  }
 },
 "nbformat": 4,
 "nbformat_minor": 1
}
